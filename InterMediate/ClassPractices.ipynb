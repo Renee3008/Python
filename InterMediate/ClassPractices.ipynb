{
 "cells": [
  {
   "cell_type": "markdown",
   "metadata": {},
   "source": [
    "# Python Classes :"
   ]
  },
  {
   "cell_type": "markdown",
   "metadata": {},
   "source": [
    "Class Variable & Instance Variable : \n",
    "    "
   ]
  },
  {
   "cell_type": "code",
   "execution_count": 6,
   "metadata": {},
   "outputs": [
    {
     "name": "stdout",
     "output_type": "stream",
     "text": [
      "Something that can move and has 4 wheels\n",
      "It needs driver to drive.\n",
      "<class '__main__.Car'>\n",
      "<class 'str'>\n",
      "Color\n",
      "Size\n"
     ]
    }
   ],
   "source": [
    "#CLASS IN PYTHON \n",
    "#Class is blue print of real life objects\n",
    "\n",
    "class Car:\n",
    "    \"Hello\"\n",
    "    definition =\"Something that can move and has 4 wheels\" #Class Variable\n",
    "\n",
    "\n",
    "\n",
    "    # THIS IS A CLASS VARIABLE. ITS VALUE CAN BE CHANGED OUTSIDE OF CLASS.\n",
    "    \n",
    "print (Car.definition)\n",
    "Car.definition =\"It needs driver to drive.\"\n",
    "\n",
    "print (Car.definition)\n",
    "\n",
    "\n",
    "# Below is INSTANCE VARIABLE\n",
    "car=Car()   #Object creation for a CLASS Car\n",
    "car.prop=\"Color\"\n",
    "\n",
    "print (type(car))\n",
    "print (type(car.prop))\n",
    "\n",
    "print(car.prop)\n",
    "car.prop=\"Size\"\n",
    "print(car.prop)\n"
   ]
  },
  {
   "cell_type": "code",
   "execution_count": 14,
   "metadata": {},
   "outputs": [
    {
     "name": "stdout",
     "output_type": "stream",
     "text": [
      "HI, Its a Employee Class Object\n",
      "001 Rekha C 36 120000\n"
     ]
    }
   ],
   "source": [
    "# __INIT__ function \n",
    "\n",
    "#Constructor of class in Python \n",
    "\n",
    "class Employee:\n",
    "    def __init__(self):\n",
    "        \"HI\"\n",
    "        \n",
    "    def __init__(self, Id, name, age, salary):\n",
    "        print (\"HI, Its a Employee Class Object\")\n",
    "        self.ID=Id\n",
    "        self.Name=name\n",
    "        self.Age=age\n",
    "        self.Salary=salary\n",
    "\n",
    "#emp=Employee()\n",
    "        \n",
    "emp1=Employee(\"001\",\"Rekha C\" , 36, 120000)\n",
    "\n",
    "print(emp1.ID, emp1.Name, emp1.Age, emp1.Salary)\n",
    "        "
   ]
  },
  {
   "cell_type": "code",
   "execution_count": 19,
   "metadata": {},
   "outputs": [
    {
     "name": "stdout",
     "output_type": "stream",
     "text": [
      "4\n"
     ]
    },
    {
     "data": {
      "text/plain": [
       "'RED'"
      ]
     },
     "execution_count": 19,
     "metadata": {},
     "output_type": "execute_result"
    }
   ],
   "source": [
    "#CLASS METHOD AnD INSTANCE METHOD\n",
    "class Car:\n",
    "    \n",
    "    #Class Method\n",
    "    def age(yr):\n",
    "        print(2016-yr)\n",
    "\n",
    "    #Instance Method\n",
    "    def Color(self):\n",
    "        return \"RED\"\n",
    "\n",
    "\n",
    "#Calling Class Method\n",
    "Car.age(2012)\n",
    "\n",
    "#Calling Instance Method\n",
    "car1=Car()\n",
    "car1.Color()\n",
    "\n",
    "\n"
   ]
  },
  {
   "cell_type": "code",
   "execution_count": 23,
   "metadata": {},
   "outputs": [
    {
     "name": "stdout",
     "output_type": "stream",
     "text": [
      "4\n",
      "9 Stuffy GermanShephard\n"
     ]
    }
   ],
   "source": [
    "#INHERITANCE\n",
    "class Dog:    \n",
    "    \n",
    "    \"hi\"\n",
    "    def __init__(self, Size, Name, Breed):\n",
    "        self.size=Size\n",
    "        self.name=Name\n",
    "        self.breed=Breed\n",
    "        \n",
    "    def age(self,yr):\n",
    "        return 2016-yr\n",
    "            \n",
    "    \n",
    "class GermanShephard(Dog):\n",
    "    \"GermanShephard\"\n",
    "    def __init__(self, Size):\n",
    "        self.size=Size\n",
    "        self.name=\"Stuffy\"\n",
    "        self.breed=\"GermanShephard\"\n",
    "\n",
    "class BullDog(Dog):\n",
    "    \"BullDog\"\n",
    "    \n",
    "    #Creating the Object of Child class\n",
    "gs=GermanShephard(9)\n",
    "print (gs.age(2012))\n",
    "print(gs.size, gs.name, gs.breed)\n"
   ]
  },
  {
   "cell_type": "code",
   "execution_count": null,
   "metadata": {},
   "outputs": [],
   "source": []
  }
 ],
 "metadata": {
  "kernelspec": {
   "display_name": "Python 3",
   "language": "python",
   "name": "python3"
  },
  "language_info": {
   "codemirror_mode": {
    "name": "ipython",
    "version": 3
   },
   "file_extension": ".py",
   "mimetype": "text/x-python",
   "name": "python",
   "nbconvert_exporter": "python",
   "pygments_lexer": "ipython3",
   "version": "3.8.3"
  }
 },
 "nbformat": 4,
 "nbformat_minor": 4
}
